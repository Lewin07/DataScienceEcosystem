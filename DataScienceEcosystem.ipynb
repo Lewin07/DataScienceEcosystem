{
 "cells": [
  {
   "cell_type": "markdown",
   "metadata": {},
   "source": [
    "<center>\n",
    "    <img src=\"https://cf-courses-data.s3.us.cloud-object-storage.appdomain.cloud/IBMDeveloperSkillsNetwork-DS0105EN-SkillsNetwork/labs/Module2/images/SN_web_lightmode.png\" width=\"300\" alt=\"cognitiveclass.ai logo\">\n",
    "</center>\n"
   ]
  },
  {
   "cell_type": "markdown",
   "metadata": {},
   "source": [
    "#### Add your code below following the instructions given in the course\n"
   ]
  },
  {
   "cell_type": "markdown",
   "metadata": {},
   "source": [
    "# Data Science Tools and Ecosystem\n"
   ]
  },
  {
   "cell_type": "markdown",
   "metadata": {},
   "source": [
    "This notebook provides an overview of the main tools, environments, and resources that make up the Data Science ecosystem."
   ]
  },
  {
   "cell_type": "markdown",
   "metadata": {},
   "source": [
    "Some of the popular languages that Data Scientists use are:\n",
    "\n",
    "1. **Python** – Widely used for its simplicity and powerful libraries like pandas, NumPy, scikit-learn, and TensorFlow.\n",
    "2. **R** – Popular in statistical analysis and data visualization, especially in academia and research.\n",
    "3. **SQL** – Essential for querying and managing data in relational databases.\n",
    "4. **Java** – Used in large-scale data processing frameworks like Hadoop.\n",
    "5. **Scala** – Often used with Apache Spark for big data processing.\n",
    "6. **Julia** – Known for high-performance numerical computing.\n",
    "7. **MATLAB** – Used in engineering and scientific computations.\n",
    "8. **SAS** – Common in enterprise environments for statistical analysis.\n",
    "``"
   ]
  },
  {
   "cell_type": "markdown",
   "metadata": {},
   "source": [
    "Some of the commonly used libraries used by Data Scientists include:\n",
    "\n",
    "1. **NumPy** – Fundamental package for numerical computing in Python.\n",
    "2. **Pandas** – Powerful library for data manipulation and analysis.\n",
    "3. **Matplotlib** – Widely used for creating static, animated, and interactive visualizations.\n",
    "4. **Seaborn** – Built on top of Matplotlib, used for statistical data visualization.\n",
    "5. **Scikit-learn** – Popular for machine learning algorithms and data preprocessing.\n",
    "6. **TensorFlow** – Open-source framework for deep learning and neural networks.\n",
    "7. **Keras** – High-level API for building and training deep learning models, often used with TensorFlow.\n",
    "8. **PyTorch** – Flexible and widely adopted deep learning framework.\n",
    "9. **Statsmodels** – Used for statistical modeling and hypothesis testing.\n",
    "10. **XGBoost** – Optimized gradient boosting library for supervised learning tasks."
   ]
  },
  {
   "cell_type": "markdown",
   "metadata": {},
   "source": [
    "Create a single column table in this cell with the first row containing the header Data Science Tools. The subsequent three rows in the table should indicate three development environment open source tools used in data science.\n",
    "\n",
    "| Data Science Tools     |\n",
    "|------------------------|\n",
    "| Jupyter Notebook       |\n",
    "| RStudio                |\n",
    "| Google Colab           |"
   ]
  },
  {
   "cell_type": "markdown",
   "metadata": {},
   "source": [
    "\n",
    "### Below are a few examples of evaluating arithmetic expressions in Python.\n",
    "``\n"
   ]
  },
  {
   "cell_type": "code",
   "execution_count": 1,
   "metadata": {},
   "outputs": [
    {
     "data": {
      "text/plain": [
       "17"
      ]
     },
     "execution_count": 1,
     "metadata": {},
     "output_type": "execute_result"
    }
   ],
   "source": [
    "#This a simple arithmetic expression to mutiply then add a number.\n",
    "(3*4)+5"
   ]
  },
  {
   "cell_type": "code",
   "execution_count": 2,
   "metadata": {},
   "outputs": [
    {
     "data": {
      "text/plain": [
       "3.3333333333333335"
      ]
     },
     "execution_count": 2,
     "metadata": {},
     "output_type": "execute_result"
    }
   ],
   "source": [
    "#This will convert 200 minutes to hours by diving by 60.\n",
    "200 / 60"
   ]
  },
  {
   "cell_type": "markdown",
   "metadata": {},
   "source": [
    "**Objectives:**\n",
    "\n",
    "- List popular languages used in Data Science.\n",
    "- Identify commonly used libraries in Data Science.\n",
    "- Summarize key tools and platforms in the Data Science ecosystem.\n",
    "- Demonstrate examples of evaluating arithmetic expressions in Python.\n",
    "- Understand the role of open-source development environments in Data Science."
   ]
  },
  {
   "cell_type": "markdown",
   "metadata": {},
   "source": [
    "## Author\n",
    "Lewin Ramirez"
   ]
  },
  {
   "cell_type": "code",
   "execution_count": null,
   "metadata": {},
   "outputs": [],
   "source": []
  }
 ],
 "metadata": {
  "kernelspec": {
   "display_name": "Python 3 (ipykernel)",
   "language": "python",
   "name": "python3"
  },
  "language_info": {
   "codemirror_mode": {
    "name": "ipython",
    "version": 3
   },
   "file_extension": ".py",
   "mimetype": "text/x-python",
   "name": "python",
   "nbconvert_exporter": "python",
   "pygments_lexer": "ipython3",
   "version": "3.12.8"
  }
 },
 "nbformat": 4,
 "nbformat_minor": 4
}
